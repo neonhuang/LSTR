{
  "nbformat": 4,
  "nbformat_minor": 0,
  "metadata": {
    "colab": {
      "name": "Exercise_03.ipynb",
      "provenance": [],
      "gpuType": "T4"
    },
    "kernelspec": {
      "name": "python3",
      "display_name": "Python 3"
    },
    "language_info": {
      "name": "python"
    },
    "accelerator": "GPU"
  },
  "cells": [
    {
      "cell_type": "markdown",
      "metadata": {
        "id": "gZABpep_V-8C"
      },
      "source": [
        "# CUDA Exercise 03\n",
        "> Vector dot product(inner product) example on GPU, only applied with single thread.\n",
        "\n",
        "This Jupyter Notebook can also be open by the google colab, so you don't have to buy a PC with a graphic card to play with CUDA. To launch the Google Colab, please click the below Icon.\n",
        "\n",
        "[![Open In Colab](https://colab.research.google.com/assets/colab-badge.svg#left)](https://colab.research.google.com/github/SuperChange001/CUDA_Learning/blob/main/Solution/Exercise_03.ipynb)"
      ]
    },
    {
      "cell_type": "markdown",
      "metadata": {
        "id": "P401L2N_WG6R"
      },
      "source": [
        "## Initialize the CUDA dev environment"
      ]
    },
    {
      "cell_type": "code",
      "metadata": {
        "colab": {
          "base_uri": "https://localhost:8080/"
        },
        "id": "OONoNFZeV63L",
        "outputId": "86751db3-f125-48c7-cd02-ea4245858c8c"
      },
      "source": [
        "# clone the code repo,\n",
        "# !pip install git+git://github.com/depctg/nvcc4jupyter.git\n",
        "# %load_ext nvcc_plugin\n",
        "!pip install nvcc4jupyter\n",
        "%load_ext nvcc4jupyter\n",
        "# Check the environment\n",
        "!lsb_release -a\n",
        "!nvcc --version\n",
        "!nvidia-smi"
      ],
      "execution_count": 1,
      "outputs": [
        {
          "output_type": "stream",
          "name": "stdout",
          "text": [
            "Collecting nvcc4jupyter\n",
            "  Downloading nvcc4jupyter-1.2.1-py3-none-any.whl.metadata (5.1 kB)\n",
            "Downloading nvcc4jupyter-1.2.1-py3-none-any.whl (10 kB)\n",
            "Installing collected packages: nvcc4jupyter\n",
            "Successfully installed nvcc4jupyter-1.2.1\n",
            "Detected platform \"Colab\". Running its setup...\n",
            "Source files will be saved in \"/tmp/tmp2n5gzcgc\".\n",
            "No LSB modules are available.\n",
            "Distributor ID:\tUbuntu\n",
            "Description:\tUbuntu 22.04.4 LTS\n",
            "Release:\t22.04\n",
            "Codename:\tjammy\n",
            "nvcc: NVIDIA (R) Cuda compiler driver\n",
            "Copyright (c) 2005-2024 NVIDIA Corporation\n",
            "Built on Thu_Jun__6_02:18:23_PDT_2024\n",
            "Cuda compilation tools, release 12.5, V12.5.82\n",
            "Build cuda_12.5.r12.5/compiler.34385749_0\n",
            "Sat Jun  7 03:07:35 2025       \n",
            "+-----------------------------------------------------------------------------------------+\n",
            "| NVIDIA-SMI 550.54.15              Driver Version: 550.54.15      CUDA Version: 12.4     |\n",
            "|-----------------------------------------+------------------------+----------------------+\n",
            "| GPU  Name                 Persistence-M | Bus-Id          Disp.A | Volatile Uncorr. ECC |\n",
            "| Fan  Temp   Perf          Pwr:Usage/Cap |           Memory-Usage | GPU-Util  Compute M. |\n",
            "|                                         |                        |               MIG M. |\n",
            "|=========================================+========================+======================|\n",
            "|   0  Tesla T4                       Off |   00000000:00:04.0 Off |                    0 |\n",
            "| N/A   51C    P8              9W /   70W |       0MiB /  15360MiB |      0%      Default |\n",
            "|                                         |                        |                  N/A |\n",
            "+-----------------------------------------+------------------------+----------------------+\n",
            "                                                                                         \n",
            "+-----------------------------------------------------------------------------------------+\n",
            "| Processes:                                                                              |\n",
            "|  GPU   GI   CI        PID   Type   Process name                              GPU Memory |\n",
            "|        ID   ID                                                               Usage      |\n",
            "|=========================================================================================|\n",
            "|  No running processes found                                                             |\n",
            "+-----------------------------------------------------------------------------------------+\n"
          ]
        }
      ]
    },
    {
      "cell_type": "markdown",
      "metadata": {
        "id": "DDN2x4izW0rO"
      },
      "source": [
        "## Vector Dot Production"
      ]
    },
    {
      "cell_type": "code",
      "metadata": {
        "colab": {
          "base_uri": "https://localhost:8080/"
        },
        "id": "egrZEZ3MWaP_",
        "outputId": "ce34bb20-553d-4114-e8d7-c24511557641"
      },
      "source": [
        "%%cuda\n",
        "#include <stdio.h>\n",
        "#include <assert.h>\n",
        "\n",
        "#define VECTOR_LENGTH 10\n",
        "#define MAX_ERR 1e-5\n",
        "\n",
        "__global__ void vector_dot_product(float *out, float *a, float *b, int n)\n",
        "{\n",
        "    float sum=0;\n",
        "    for(int i = 0; i < n; i++)\n",
        "    {\n",
        "        sum = sum +  a[i] * b[i];\n",
        "    }\n",
        "    *out = sum;\n",
        "}\n",
        "\n",
        "void test_vector_dot_product(void)\n",
        "{\n",
        "    float *a, *b, *out;\n",
        "    float *d_a, *d_b, *d_out;\n",
        "\n",
        "    // Allocate memory on CPU\n",
        "    a = (float*)malloc(sizeof(float) * VECTOR_LENGTH);\n",
        "    b = (float*)malloc(sizeof(float) * VECTOR_LENGTH);\n",
        "    out = (float*)malloc(sizeof(float));\n",
        "\n",
        "    // data initializtion\n",
        "    for(int i = 0; i < VECTOR_LENGTH; i++)\n",
        "    {\n",
        "        a[i] = 3.14f;\n",
        "        b[i] = 2.0f;\n",
        "    }\n",
        "\n",
        "    // Allocate memory on GPU\n",
        "    cudaMalloc((void**)&d_a, sizeof(float) * VECTOR_LENGTH);\n",
        "    cudaMalloc((void**)&d_b, sizeof(float) * VECTOR_LENGTH);\n",
        "    cudaMalloc((void**)&d_out, sizeof(float));\n",
        "\n",
        "    // copy operator to GPU\n",
        "    cudaMemcpy(d_a, a, sizeof(float) * VECTOR_LENGTH, cudaMemcpyHostToDevice);\n",
        "    cudaMemcpy(d_b, b, sizeof(float) * VECTOR_LENGTH, cudaMemcpyHostToDevice);\n",
        "\n",
        "    // GPU do the work, CPU waits\n",
        "    vector_dot_product<<<1,1>>>(d_out, d_a, d_b, VECTOR_LENGTH);\n",
        "\n",
        "    // Get results from the GPU\n",
        "    cudaMemcpy(out, d_out, sizeof(float),\n",
        "               cudaMemcpyDeviceToHost);\n",
        "\n",
        "    // Test the result\n",
        "    // assert(fabs(*out - 20*3.14) < MAX_ERR);\n",
        "\n",
        "    printf(\"out[0] = %f\\n\", out[0]);\n",
        "    printf(\"PASSED\\n\");\n",
        "\n",
        "    // Free the memory\n",
        "    cudaFree(d_a);\n",
        "    cudaFree(d_b);\n",
        "    cudaFree(d_out);\n",
        "    free(a);\n",
        "    free(b);\n",
        "    free(out);\n",
        "}\n",
        "\n",
        "int main()\n",
        "{\n",
        "    test_vector_dot_product();\n",
        "}"
      ],
      "execution_count": 4,
      "outputs": [
        {
          "output_type": "stream",
          "name": "stdout",
          "text": [
            "/tmp/tmp2n5gzcgc/7f7df3de-e063-478c-a77f-5325e4a5a25f/single_file.cu:51:7: warning: #assert is a deprecated GCC extension [-Wdeprecated]\n",
            "   51 |     # assert(fabs(*out - 20*3.14) < MAX_ERR);\n",
            "      |       ^~~~~~\n",
            "/tmp/tmp2n5gzcgc/7f7df3de-e063-478c-a77f-5325e4a5a25f/single_file.cu:51:13: error: predicate must be an identifier\n",
            "   51 |     # assert(fabs(*out - 20*3.14) < MAX_ERR);\n",
            "      |             ^\n",
            "\n"
          ]
        }
      ]
    }
  ]
}