{
  "nbformat": 4,
  "nbformat_minor": 0,
  "metadata": {
    "colab": {
      "name": "Exercise_06.ipynb",
      "provenance": []
    },
    "kernelspec": {
      "name": "python3",
      "display_name": "Python 3"
    },
    "language_info": {
      "name": "python"
    },
    "accelerator": "GPU"
  },
  "cells": [
    {
      "cell_type": "markdown",
      "metadata": {
        "id": "gZABpep_V-8C"
      },
      "source": [
        "# CUDA Exercise 06\n",
        "> Another approach of parallelized Vector add.\n",
        "\n",
        "This Jupyter Notebook can also be open by the google colab, so you don't have to buy a PC with a graphic card to play with CUDA. To launch the Google Colab, please click the below Icon.\n",
        "\n",
        "[![Open In Colab](https://colab.research.google.com/assets/colab-badge.svg#left)](https://colab.research.google.com/github/SuperChange001/CUDA_Learning/blob/main/Solution/Exercise_06.ipynb)"
      ]
    },
    {
      "cell_type": "markdown",
      "metadata": {
        "id": "P401L2N_WG6R"
      },
      "source": [
        "## Initialize the CUDA dev environment"
      ]
    },
    {
      "cell_type": "code",
      "metadata": {
        "colab": {
          "base_uri": "https://localhost:8080/"
        },
        "id": "OONoNFZeV63L",
        "outputId": "e32c733e-ab21-4ca0-d373-64f4c505a3b3"
      },
      "source": [
        "# clone the code repo,\n",
        "# !pip install git+git://github.com/depctg/nvcc4jupyter.git\n",
        "# %load_ext nvcc_plugin\n",
        "!pip install nvcc4jupyter\n",
        "%load_ext nvcc4jupyter\n",
        "# Check the environment\n",
        "!lsb_release -a\n",
        "!nvcc --version\n",
        "!nvidia-smi"
      ],
      "execution_count": 1,
      "outputs": [
        {
          "output_type": "stream",
          "name": "stdout",
          "text": [
            "Collecting nvcc4jupyter\n",
            "  Downloading nvcc4jupyter-1.2.1-py3-none-any.whl.metadata (5.1 kB)\n",
            "Downloading nvcc4jupyter-1.2.1-py3-none-any.whl (10 kB)\n",
            "Installing collected packages: nvcc4jupyter\n",
            "Successfully installed nvcc4jupyter-1.2.1\n",
            "Detected platform \"Colab\". Running its setup...\n",
            "Source files will be saved in \"/tmp/tmpddfr6ih1\".\n",
            "No LSB modules are available.\n",
            "Distributor ID:\tUbuntu\n",
            "Description:\tUbuntu 22.04.4 LTS\n",
            "Release:\t22.04\n",
            "Codename:\tjammy\n",
            "nvcc: NVIDIA (R) Cuda compiler driver\n",
            "Copyright (c) 2005-2024 NVIDIA Corporation\n",
            "Built on Thu_Jun__6_02:18:23_PDT_2024\n",
            "Cuda compilation tools, release 12.5, V12.5.82\n",
            "Build cuda_12.5.r12.5/compiler.34385749_0\n",
            "Sat Jun  7 03:17:06 2025       \n",
            "+-----------------------------------------------------------------------------------------+\n",
            "| NVIDIA-SMI 550.54.15              Driver Version: 550.54.15      CUDA Version: 12.4     |\n",
            "|-----------------------------------------+------------------------+----------------------+\n",
            "| GPU  Name                 Persistence-M | Bus-Id          Disp.A | Volatile Uncorr. ECC |\n",
            "| Fan  Temp   Perf          Pwr:Usage/Cap |           Memory-Usage | GPU-Util  Compute M. |\n",
            "|                                         |                        |               MIG M. |\n",
            "|=========================================+========================+======================|\n",
            "|   0  Tesla T4                       Off |   00000000:00:04.0 Off |                    0 |\n",
            "| N/A   38C    P8              9W /   70W |       0MiB /  15360MiB |      0%      Default |\n",
            "|                                         |                        |                  N/A |\n",
            "+-----------------------------------------+------------------------+----------------------+\n",
            "                                                                                         \n",
            "+-----------------------------------------------------------------------------------------+\n",
            "| Processes:                                                                              |\n",
            "|  GPU   GI   CI        PID   Type   Process name                              GPU Memory |\n",
            "|        ID   ID                                                               Usage      |\n",
            "|=========================================================================================|\n",
            "|  No running processes found                                                             |\n",
            "+-----------------------------------------------------------------------------------------+\n"
          ]
        }
      ]
    },
    {
      "cell_type": "markdown",
      "metadata": {
        "id": "Bxx_JzKwgnh1"
      },
      "source": [
        "## Vector Add with Multiple Threads across Blocks"
      ]
    },
    {
      "cell_type": "code",
      "metadata": {
        "colab": {
          "base_uri": "https://localhost:8080/"
        },
        "id": "egrZEZ3MWaP_",
        "outputId": "badbed76-02ec-47c0-8182-eb26cb86fcd2"
      },
      "source": [
        "%%writefile verctor_add_multi_blocks_thread.cu\n",
        "\n",
        "#include <stdio.h>\n",
        "#include <assert.h>\n",
        "\n",
        "#define VECTOR_LENGTH 10000\n",
        "#define MAX_ERR 1e-4\n",
        "\n",
        "__global__ void vector_add(float *out, float *a, float *b, int n)\n",
        "{\n",
        "    int tid = blockIdx.x * blockDim.x + threadIdx.x;\n",
        "\n",
        "    if(tid<n)\n",
        "    {\n",
        "        out[tid] = a[tid] + b[tid];\n",
        "    }\n",
        "}\n",
        "\n",
        "int main(int argc, char *argv[])\n",
        "{\n",
        "  float *a, *b, *out;\n",
        "  float *d_a, *d_b, *d_out;\n",
        "  int list_of_test_block_size[]={1,64,128,256,512,1024};\n",
        "  int block_size = 1;\n",
        "\n",
        "  if( argc == 2 ) {\n",
        "    //printf(\"The argument supplied is %s\\n\", argv[1]);\n",
        "    int arg1 = atoi(argv[1]);  //argv[0] is the program name\n",
        "                              //atoi = ascii to int\n",
        "\n",
        "    block_size = list_of_test_block_size[arg1];\n",
        "  }\n",
        "  else if( argc > 2 ) {\n",
        "    printf(\"Too many arguments supplied.\\n\");\n",
        "  }\n",
        "  else {\n",
        "    printf(\"One argument expected.\\n\");\n",
        "\n",
        "  }\n",
        "\n",
        "  printf(\"The Block size is %d.\\n\", block_size);\n",
        "\n",
        "\n",
        "  // Allocate memory on CPU\n",
        "  a = (float*)malloc(sizeof(float) * VECTOR_LENGTH);\n",
        "  b = (float*)malloc(sizeof(float) * VECTOR_LENGTH);\n",
        "  out = (float*)malloc(sizeof(float) * VECTOR_LENGTH);\n",
        "\n",
        "  // data initializtion\n",
        "  for(int i = 0; i < VECTOR_LENGTH; i++)\n",
        "  {\n",
        "      a[i] = 3.0f;\n",
        "      b[i] = 0.14f;\n",
        "  }\n",
        "\n",
        "  // Allocate memory on GPU\n",
        "  cudaMalloc((void**)&d_a, sizeof(float) * VECTOR_LENGTH);\n",
        "  cudaMalloc((void**)&d_b, sizeof(float) * VECTOR_LENGTH);\n",
        "  cudaMalloc((void**)&d_out, sizeof(float) * VECTOR_LENGTH);\n",
        "\n",
        "  // copy operator to GPU\n",
        "  cudaMemcpy(d_a, a, sizeof(float) * VECTOR_LENGTH, cudaMemcpyHostToDevice);\n",
        "  cudaMemcpy(d_b, b, sizeof(float) * VECTOR_LENGTH, cudaMemcpyHostToDevice);\n",
        "\n",
        "  for(int i=0;i<100;i++)\n",
        "  {\n",
        "    // GPU do the work, CPU waits\n",
        "    // Executing kernel\n",
        "    int grid_size = ((VECTOR_LENGTH + block_size) / block_size);\n",
        "    vector_add<<<grid_size,block_size>>>(d_out, d_a, d_b, VECTOR_LENGTH);\n",
        "  }\n",
        "  // Get results from the GPU\n",
        "  cudaMemcpy(out, d_out, sizeof(float) * VECTOR_LENGTH,\n",
        "              cudaMemcpyDeviceToHost);\n",
        "\n",
        "  // Test the result\n",
        "  for(int i = 0; i < VECTOR_LENGTH; i++){\n",
        "      assert(fabs(out[i] - a[i] - b[i]) < MAX_ERR);\n",
        "  }\n",
        "  printf(\"out[0] = %f\\n\", out[0]);\n",
        "  printf(\"PASSED\\n\");\n",
        "\n",
        "  // Free the memory\n",
        "  cudaFree(d_a);\n",
        "  cudaFree(d_b);\n",
        "  cudaFree(d_out);\n",
        "  free(a);\n",
        "  free(b);\n",
        "  free(out);\n",
        "  }"
      ],
      "execution_count": 2,
      "outputs": [
        {
          "output_type": "stream",
          "name": "stdout",
          "text": [
            "Writing verctor_add_multi_blocks_thread.cu\n"
          ]
        }
      ]
    },
    {
      "cell_type": "markdown",
      "metadata": {
        "id": "d9Zw1YvsewRK"
      },
      "source": [
        "## Evaluation"
      ]
    },
    {
      "cell_type": "markdown",
      "metadata": {
        "id": "ch5mhas6fIZd"
      },
      "source": [
        "Measuring the time cost of executing the CUDA fucntion"
      ]
    },
    {
      "cell_type": "code",
      "metadata": {
        "colab": {
          "base_uri": "https://localhost:8080/"
        },
        "id": "0wc1X6ZCFAVo",
        "outputId": "6c8fd681-5954-4fa5-fb3a-a745de74ca05"
      },
      "source": [
        "!nvcc -o verctor_add_multi_blocks_thread verctor_add_multi_blocks_thread.cu\n",
        "!nvprof ./verctor_add_multi_blocks_thread 0\n",
        "!nvprof ./verctor_add_multi_blocks_thread 1\n",
        "!nvprof ./verctor_add_multi_blocks_thread 2\n",
        "!nvprof ./verctor_add_multi_blocks_thread 3"
      ],
      "execution_count": 3,
      "outputs": [
        {
          "output_type": "stream",
          "name": "stdout",
          "text": [
            "The Block size is 1.\n",
            "==779== NVPROF is profiling process 779, command: ./verctor_add_multi_blocks_thread 0\n",
            "verctor_add_multi_blocks_thread: verctor_add_multi_blocks_thread.cu:77: int main(int, char**): Assertion `fabs(out[i] - a[i] - b[i]) < MAX_ERR' failed.\n",
            "==779== Profiling application: ./verctor_add_multi_blocks_thread 0\n",
            "==779== Profiling result:\n",
            "No kernels were profiled.\n",
            "No API activities were profiled.\n",
            "==779== Warning: Some profiling data are not recorded.\n",
            "======== Error: Application received signal 134\n",
            "The Block size is 64.\n",
            "==794== NVPROF is profiling process 794, command: ./verctor_add_multi_blocks_thread 1\n",
            "verctor_add_multi_blocks_thread: verctor_add_multi_blocks_thread.cu:77: int main(int, char**): Assertion `fabs(out[i] - a[i] - b[i]) < MAX_ERR' failed.\n",
            "==794== Profiling application: ./verctor_add_multi_blocks_thread 1\n",
            "==794== Profiling result:\n",
            "No kernels were profiled.\n",
            "No API activities were profiled.\n",
            "==794== Warning: Some profiling data are not recorded.\n",
            "======== Error: Application received signal 134\n",
            "The Block size is 128.\n",
            "==805== NVPROF is profiling process 805, command: ./verctor_add_multi_blocks_thread 2\n",
            "verctor_add_multi_blocks_thread: verctor_add_multi_blocks_thread.cu:77: int main(int, char**): Assertion `fabs(out[i] - a[i] - b[i]) < MAX_ERR' failed.\n",
            "==805== Profiling application: ./verctor_add_multi_blocks_thread 2\n",
            "==805== Profiling result:\n",
            "No kernels were profiled.\n",
            "No API activities were profiled.\n",
            "==805== Warning: Some profiling data are not recorded.\n",
            "======== Error: Application received signal 134\n",
            "The Block size is 256.\n",
            "==820== NVPROF is profiling process 820, command: ./verctor_add_multi_blocks_thread 3\n",
            "verctor_add_multi_blocks_thread: verctor_add_multi_blocks_thread.cu:77: int main(int, char**): Assertion `fabs(out[i] - a[i] - b[i]) < MAX_ERR' failed.\n",
            "==820== Profiling application: ./verctor_add_multi_blocks_thread 3\n",
            "==820== Profiling result:\n",
            "No kernels were profiled.\n",
            "No API activities were profiled.\n",
            "==820== Warning: Some profiling data are not recorded.\n",
            "======== Error: Application received signal 134\n"
          ]
        }
      ]
    }
  ]
}