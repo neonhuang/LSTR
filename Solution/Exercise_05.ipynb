{
  "nbformat": 4,
  "nbformat_minor": 0,
  "metadata": {
    "colab": {
      "name": "Exercise_05.ipynb",
      "provenance": []
    },
    "kernelspec": {
      "name": "python3",
      "display_name": "Python 3"
    },
    "language_info": {
      "name": "python"
    },
    "accelerator": "GPU"
  },
  "cells": [
    {
      "cell_type": "markdown",
      "metadata": {
        "id": "gZABpep_V-8C"
      },
      "source": [
        "# CUDA Exercise 05\n",
        "> Parallelized Vector add.\n",
        "\n",
        "This Jupyter Notebook can also be open by the google colab, so you don't have to buy a PC with a graphic card to play with CUDA. To launch the Google Colab, please click the below Icon.\n",
        "\n",
        "[![Open In Colab](https://colab.research.google.com/assets/colab-badge.svg#left)](https://colab.research.google.com/github/SuperChange001/CUDA_Learning/blob/main/Solution/Exercise_05.ipynb)"
      ]
    },
    {
      "cell_type": "markdown",
      "metadata": {
        "id": "P401L2N_WG6R"
      },
      "source": [
        "## Initialize the CUDA dev environment"
      ]
    },
    {
      "cell_type": "code",
      "metadata": {
        "colab": {
          "base_uri": "https://localhost:8080/"
        },
        "id": "OONoNFZeV63L",
        "outputId": "79a60a27-5162-4fe0-b378-2d41dc777d1a"
      },
      "source": [
        "# clone the code repo,\n",
        "# !pip install git+git://github.com/depctg/nvcc4jupyter.git\n",
        "# %load_ext nvcc_plugin\n",
        "!pip install nvcc4jupyter\n",
        "%load_ext nvcc4jupyter\n",
        "# Check the environment\n",
        "!lsb_release -a\n",
        "!nvcc --version\n",
        "!nvidia-smi"
      ],
      "execution_count": 1,
      "outputs": [
        {
          "output_type": "stream",
          "name": "stdout",
          "text": [
            "Collecting nvcc4jupyter\n",
            "  Downloading nvcc4jupyter-1.2.1-py3-none-any.whl.metadata (5.1 kB)\n",
            "Downloading nvcc4jupyter-1.2.1-py3-none-any.whl (10 kB)\n",
            "Installing collected packages: nvcc4jupyter\n",
            "Successfully installed nvcc4jupyter-1.2.1\n",
            "Detected platform \"Colab\". Running its setup...\n",
            "Source files will be saved in \"/tmp/tmp3nkqsiyn\".\n",
            "No LSB modules are available.\n",
            "Distributor ID:\tUbuntu\n",
            "Description:\tUbuntu 22.04.4 LTS\n",
            "Release:\t22.04\n",
            "Codename:\tjammy\n",
            "nvcc: NVIDIA (R) Cuda compiler driver\n",
            "Copyright (c) 2005-2024 NVIDIA Corporation\n",
            "Built on Thu_Jun__6_02:18:23_PDT_2024\n",
            "Cuda compilation tools, release 12.5, V12.5.82\n",
            "Build cuda_12.5.r12.5/compiler.34385749_0\n",
            "Sat Jun  7 03:12:57 2025       \n",
            "+-----------------------------------------------------------------------------------------+\n",
            "| NVIDIA-SMI 550.54.15              Driver Version: 550.54.15      CUDA Version: 12.4     |\n",
            "|-----------------------------------------+------------------------+----------------------+\n",
            "| GPU  Name                 Persistence-M | Bus-Id          Disp.A | Volatile Uncorr. ECC |\n",
            "| Fan  Temp   Perf          Pwr:Usage/Cap |           Memory-Usage | GPU-Util  Compute M. |\n",
            "|                                         |                        |               MIG M. |\n",
            "|=========================================+========================+======================|\n",
            "|   0  Tesla T4                       Off |   00000000:00:04.0 Off |                    0 |\n",
            "| N/A   58C    P8             11W /   70W |       0MiB /  15360MiB |      0%      Default |\n",
            "|                                         |                        |                  N/A |\n",
            "+-----------------------------------------+------------------------+----------------------+\n",
            "                                                                                         \n",
            "+-----------------------------------------------------------------------------------------+\n",
            "| Processes:                                                                              |\n",
            "|  GPU   GI   CI        PID   Type   Process name                              GPU Memory |\n",
            "|        ID   ID                                                               Usage      |\n",
            "|=========================================================================================|\n",
            "|  No running processes found                                                             |\n",
            "+-----------------------------------------------------------------------------------------+\n"
          ]
        }
      ]
    },
    {
      "cell_type": "markdown",
      "metadata": {
        "id": "DDN2x4izW0rO"
      },
      "source": [
        "## Vector Add with Single Thread"
      ]
    },
    {
      "cell_type": "code",
      "metadata": {
        "colab": {
          "base_uri": "https://localhost:8080/"
        },
        "id": "egrZEZ3MWaP_",
        "outputId": "4da92400-fe43-457d-a259-2aeab3e32835"
      },
      "source": [
        "%%writefile verctor_add_signal_thread.cu\n",
        "\n",
        "#include <stdio.h>\n",
        "#include <assert.h>\n",
        "\n",
        "#define VECTOR_LENGTH 10000\n",
        "#define MAX_ERR 1e-4\n",
        "\n",
        "__global__ void vector_add(float *out, float *a, float *b, int n)\n",
        "{\n",
        "    for(int i = 0; i < n; i++)\n",
        "    {\n",
        "        out[i] = a[i] + b[i];\n",
        "    }\n",
        "}\n",
        "\n",
        "int main()\n",
        "{\n",
        "    float *a, *b, *out;\n",
        "    float *d_a, *d_b, *d_out;\n",
        "\n",
        "    // Allocate memory on CPU\n",
        "    a = (float*)malloc(sizeof(float) * VECTOR_LENGTH);\n",
        "    b = (float*)malloc(sizeof(float) * VECTOR_LENGTH);\n",
        "    out = (float*)malloc(sizeof(float) * VECTOR_LENGTH);\n",
        "\n",
        "    // data initializtion\n",
        "    for(int i = 0; i < VECTOR_LENGTH; i++)\n",
        "    {\n",
        "        a[i] = 3.0f;\n",
        "        b[i] = 0.14f;\n",
        "    }\n",
        "\n",
        "    // Allocate memory on GPU\n",
        "    cudaMalloc((void**)&d_a, sizeof(float) * VECTOR_LENGTH);\n",
        "    cudaMalloc((void**)&d_b, sizeof(float) * VECTOR_LENGTH);\n",
        "    cudaMalloc((void**)&d_out, sizeof(float) * VECTOR_LENGTH);\n",
        "\n",
        "    // copy operator to GPU\n",
        "    cudaMemcpy(d_a, a, sizeof(float) * VECTOR_LENGTH, cudaMemcpyHostToDevice);\n",
        "    cudaMemcpy(d_b, b, sizeof(float) * VECTOR_LENGTH, cudaMemcpyHostToDevice);\n",
        "\n",
        "    for(int i=0;i<100;i++)\n",
        "    {\n",
        "      // GPU do the work, CPU waits\n",
        "      vector_add<<<1,1>>>(d_out, d_a, d_b, VECTOR_LENGTH);\n",
        "    }\n",
        "    // Get results from the GPU\n",
        "    cudaMemcpy(out, d_out, sizeof(float) * VECTOR_LENGTH,\n",
        "               cudaMemcpyDeviceToHost);\n",
        "\n",
        "    // Test the result\n",
        "    for(int i = 0; i < VECTOR_LENGTH; i++){\n",
        "        assert(fabs(out[i] - a[i] - b[i]) < MAX_ERR);\n",
        "    }\n",
        "    printf(\"out[0] = %f\\n\", out[0]);\n",
        "    printf(\"PASSED\\n\");\n",
        "\n",
        "    // Free the memory\n",
        "    cudaFree(d_a);\n",
        "    cudaFree(d_b);\n",
        "    cudaFree(d_out);\n",
        "    free(a);\n",
        "    free(b);\n",
        "    free(out);\n",
        "}"
      ],
      "execution_count": 2,
      "outputs": [
        {
          "output_type": "stream",
          "name": "stdout",
          "text": [
            "Writing verctor_add_signal_thread.cu\n"
          ]
        }
      ]
    },
    {
      "cell_type": "markdown",
      "metadata": {
        "id": "TZI-nXBxefbc"
      },
      "source": [
        "## Vector Add with Multiple Threads"
      ]
    },
    {
      "cell_type": "code",
      "metadata": {
        "colab": {
          "base_uri": "https://localhost:8080/"
        },
        "id": "cxsC_CQRen43",
        "outputId": "db893f93-5c04-4eb7-d108-4a52ce5ca37c"
      },
      "source": [
        "%%writefile verctor_add_multi_thread.cu\n",
        "\n",
        "#include <stdio.h>\n",
        "#include <stdlib.h>\n",
        "#include <assert.h>\n",
        "\n",
        "#define VECTOR_LENGTH 10000\n",
        "#define MAX_ERR 1e-4\n",
        "\n",
        "__global__ void vector_add(float *out, float *a, float *b, int n)\n",
        "{\n",
        "    int index = threadIdx.x;\n",
        "    int stride = blockDim.x;\n",
        "    for(int i = index; i < n; i=i+stride)\n",
        "    {\n",
        "        out[i] = a[i] + b[i];\n",
        "    }\n",
        "}\n",
        "\n",
        "int main(int argc, char *argv[])\n",
        "{\n",
        "    float *a, *b, *out;\n",
        "    float *d_a, *d_b, *d_out;\n",
        "    int list_of_test_block_size[]={1,64,128,256,512,1024};\n",
        "    int block_size = 1;\n",
        "\n",
        "    if( argc == 2 ) {\n",
        "      //printf(\"The argument supplied is %s\\n\", argv[1]);\n",
        "      int arg1 = atoi(argv[1]);  //argv[0] is the program name\n",
        "                                //atoi = ascii to int\n",
        "\n",
        "      block_size = list_of_test_block_size[arg1];\n",
        "    }\n",
        "    else if( argc > 2 ) {\n",
        "      printf(\"Too many arguments supplied.\\n\");\n",
        "    }\n",
        "    else {\n",
        "      printf(\"One argument expected.\\n\");\n",
        "\n",
        "    }\n",
        "\n",
        "    printf(\"The Block size is %d.\\n\", block_size);\n",
        "\n",
        "    // Allocate memory on CPU\n",
        "    a = (float*)malloc(sizeof(float) * VECTOR_LENGTH);\n",
        "    b = (float*)malloc(sizeof(float) * VECTOR_LENGTH);\n",
        "    out = (float*)malloc(sizeof(float) * VECTOR_LENGTH);\n",
        "\n",
        "    // data initializtion\n",
        "    for(int i = 0; i < VECTOR_LENGTH; i++)\n",
        "    {\n",
        "        a[i] = 3.0f;\n",
        "        b[i] = 0.14f;\n",
        "    }\n",
        "\n",
        "    // Allocate memory on GPU\n",
        "    cudaMalloc((void**)&d_a, sizeof(float) * VECTOR_LENGTH);\n",
        "    cudaMalloc((void**)&d_b, sizeof(float) * VECTOR_LENGTH);\n",
        "    cudaMalloc((void**)&d_out, sizeof(float) * VECTOR_LENGTH);\n",
        "\n",
        "    // copy operator to GPU\n",
        "    cudaMemcpy(d_a, a, sizeof(float) * VECTOR_LENGTH, cudaMemcpyHostToDevice);\n",
        "    cudaMemcpy(d_b, b, sizeof(float) * VECTOR_LENGTH, cudaMemcpyHostToDevice);\n",
        "\n",
        "    for(int i=0;i<100;i++)\n",
        "    {\n",
        "      // GPU do the work, CPU waits\n",
        "      vector_add<<<1,block_size>>>(d_out, d_a, d_b, VECTOR_LENGTH);\n",
        "    }\n",
        "    // Get results from the GPU\n",
        "    cudaMemcpy(out, d_out, sizeof(float) * VECTOR_LENGTH,\n",
        "               cudaMemcpyDeviceToHost);\n",
        "\n",
        "    // Test the result\n",
        "    for(int i = 0; i < VECTOR_LENGTH; i++){\n",
        "        assert(fabs(out[i] - a[i] - b[i]) < MAX_ERR);\n",
        "    }\n",
        "    printf(\"out[0] = %f\\n\", out[0]);\n",
        "    printf(\"PASSED\\n\");\n",
        "\n",
        "    // Free the memory\n",
        "    cudaFree(d_a);\n",
        "    cudaFree(d_b);\n",
        "    cudaFree(d_out);\n",
        "    free(a);\n",
        "    free(b);\n",
        "    free(out);\n",
        "}"
      ],
      "execution_count": 3,
      "outputs": [
        {
          "output_type": "stream",
          "name": "stdout",
          "text": [
            "Writing verctor_add_multi_thread.cu\n"
          ]
        }
      ]
    },
    {
      "cell_type": "markdown",
      "metadata": {
        "id": "d9Zw1YvsewRK"
      },
      "source": [
        "## Evaluation"
      ]
    },
    {
      "cell_type": "markdown",
      "metadata": {
        "id": "q4j_yDKhfHzv"
      },
      "source": [
        "Measuring the time cost of executing the CUDA fucntion with **signle thread**"
      ]
    },
    {
      "cell_type": "code",
      "metadata": {
        "colab": {
          "base_uri": "https://localhost:8080/"
        },
        "id": "uOfZmgUxezqF",
        "outputId": "1da45d1c-fbef-49a2-8f19-a224652e4cb2"
      },
      "source": [
        "!nvcc -o verctor_add_signal_thread verctor_add_signal_thread.cu\n",
        "!nvprof ./verctor_add_signal_thread\n",
        "# !./verctor_add_signal_thread"
      ],
      "execution_count": 6,
      "outputs": [
        {
          "output_type": "stream",
          "name": "stdout",
          "text": [
            "==1394== NVPROF is profiling process 1394, command: ./verctor_add_signal_thread\n",
            "verctor_add_signal_thread: verctor_add_signal_thread.cu:53: int main(): Assertion `fabs(out[i] - a[i] - b[i]) < MAX_ERR' failed.\n",
            "==1394== Profiling application: ./verctor_add_signal_thread\n",
            "==1394== Profiling result:\n",
            "No kernels were profiled.\n",
            "No API activities were profiled.\n",
            "==1394== Warning: Some profiling data are not recorded.\n",
            "======== Error: Application received signal 134\n"
          ]
        }
      ]
    },
    {
      "cell_type": "markdown",
      "metadata": {
        "id": "ch5mhas6fIZd"
      },
      "source": [
        "Measuring the time cost of executing the CUDA fucntion with **multi-threads**"
      ]
    },
    {
      "cell_type": "code",
      "metadata": {
        "colab": {
          "base_uri": "https://localhost:8080/"
        },
        "id": "0wc1X6ZCFAVo",
        "outputId": "4118238e-b03f-4b7a-f6ec-c21e529a1111"
      },
      "source": [
        "!nvcc -o verctor_add_multi_thread verctor_add_multi_thread.cu\n",
        "!nvprof ./verctor_add_multi_thread 0\n",
        "!nvprof ./verctor_add_multi_thread 1\n",
        "!nvprof ./verctor_add_multi_thread 2\n",
        "!nvprof ./verctor_add_multi_thread 3\n",
        "!nvprof ./verctor_add_multi_thread 4\n",
        "!nvprof ./verctor_add_multi_thread 5"
      ],
      "execution_count": 7,
      "outputs": [
        {
          "output_type": "stream",
          "name": "stdout",
          "text": [
            "The Block size is 1.\n",
            "==1478== NVPROF is profiling process 1478, command: ./verctor_add_multi_thread 0\n",
            "verctor_add_multi_thread: verctor_add_multi_thread.cu:75: int main(int, char**): Assertion `fabs(out[i] - a[i] - b[i]) < MAX_ERR' failed.\n",
            "==1478== Profiling application: ./verctor_add_multi_thread 0\n",
            "==1478== Profiling result:\n",
            "No kernels were profiled.\n",
            "No API activities were profiled.\n",
            "==1478== Warning: Some profiling data are not recorded.\n",
            "======== Error: Application received signal 134\n",
            "The Block size is 64.\n",
            "==1489== NVPROF is profiling process 1489, command: ./verctor_add_multi_thread 1\n",
            "verctor_add_multi_thread: verctor_add_multi_thread.cu:75: int main(int, char**): Assertion `fabs(out[i] - a[i] - b[i]) < MAX_ERR' failed.\n",
            "==1489== Profiling application: ./verctor_add_multi_thread 1\n",
            "==1489== Profiling result:\n",
            "No kernels were profiled.\n",
            "No API activities were profiled.\n",
            "==1489== Warning: Some profiling data are not recorded.\n",
            "======== Error: Application received signal 134\n",
            "The Block size is 128.\n",
            "==1504== NVPROF is profiling process 1504, command: ./verctor_add_multi_thread 2\n",
            "verctor_add_multi_thread: verctor_add_multi_thread.cu:75: int main(int, char**): Assertion `fabs(out[i] - a[i] - b[i]) < MAX_ERR' failed.\n",
            "==1504== Profiling application: ./verctor_add_multi_thread 2\n",
            "==1504== Profiling result:\n",
            "No kernels were profiled.\n",
            "No API activities were profiled.\n",
            "==1504== Warning: Some profiling data are not recorded.\n",
            "======== Error: Application received signal 134\n",
            "The Block size is 256.\n",
            "==1516== NVPROF is profiling process 1516, command: ./verctor_add_multi_thread 3\n",
            "verctor_add_multi_thread: verctor_add_multi_thread.cu:75: int main(int, char**): Assertion `fabs(out[i] - a[i] - b[i]) < MAX_ERR' failed.\n",
            "==1516== Profiling application: ./verctor_add_multi_thread 3\n",
            "==1516== Profiling result:\n",
            "No kernels were profiled.\n",
            "No API activities were profiled.\n",
            "==1516== Warning: Some profiling data are not recorded.\n",
            "======== Error: Application received signal 134\n",
            "The Block size is 512.\n",
            "==1532== NVPROF is profiling process 1532, command: ./verctor_add_multi_thread 4\n",
            "verctor_add_multi_thread: verctor_add_multi_thread.cu:75: int main(int, char**): Assertion `fabs(out[i] - a[i] - b[i]) < MAX_ERR' failed.\n",
            "==1532== Profiling application: ./verctor_add_multi_thread 4\n",
            "==1532== Profiling result:\n",
            "No kernels were profiled.\n",
            "No API activities were profiled.\n",
            "==1532== Warning: Some profiling data are not recorded.\n",
            "======== Error: Application received signal 134\n",
            "The Block size is 1024.\n",
            "==1543== NVPROF is profiling process 1543, command: ./verctor_add_multi_thread 5\n",
            "verctor_add_multi_thread: verctor_add_multi_thread.cu:75: int main(int, char**): Assertion `fabs(out[i] - a[i] - b[i]) < MAX_ERR' failed.\n",
            "==1543== Profiling application: ./verctor_add_multi_thread 5\n",
            "==1543== Profiling result:\n",
            "No kernels were profiled.\n",
            "No API activities were profiled.\n",
            "==1543== Warning: Some profiling data are not recorded.\n",
            "======== Error: Application received signal 134\n"
          ]
        }
      ]
    }
  ]
}